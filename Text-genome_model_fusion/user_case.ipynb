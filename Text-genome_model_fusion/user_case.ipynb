{
 "cells": [
  {
   "cell_type": "markdown",
   "id": "3c87fff1-853f-46df-ab3d-04675eb89cba",
   "metadata": {},
   "source": [
    "# GenOS基因组：序列分析演示\n",
    "\n",
    "本notebook演示了如何使用模型进行DNA序列分析和基因变异效应预测。\n",
    "\n",
    "## 功能特点\n",
    "- DNA序列嵌入生成\n",
    "- 基因变异效应预测\n",
    "- KEGG通路分析\n",
    "- 交互式结果可视化\n"
   ]
  },
  {
   "cell_type": "markdown",
   "id": "c99b4526",
   "metadata": {},
   "source": [
    "## 环境检测\n",
    "该工程需要在装有GPU的机器上运行"
   ]
  },
  {
   "cell_type": "code",
   "execution_count": 1,
   "id": "ca500a57-570d-4b91-93ce-173a9ce7939d",
   "metadata": {},
   "outputs": [
    {
     "name": "stdout",
     "output_type": "stream",
     "text": [
      "PyTorch版本: 2.7.1\n",
      "CUDA可用: True\n",
      "GPU设备: NVIDIA A40\n"
     ]
    }
   ],
   "source": [
    "# 检测环境\n",
    "import torch\n",
    "print(f\"PyTorch版本: {torch.__version__}\")\n",
    "print(f\"CUDA可用: {torch.cuda.is_available()}\")\n",
    "if torch.cuda.is_available():\n",
    "    print(f\"GPU设备: {torch.cuda.get_device_name(0)}\")"
   ]
  },
  {
   "cell_type": "markdown",
   "id": "2c80c9f6",
   "metadata": {},
   "source": [
    "## 环境准备\n",
    "\n",
    "工程中提供了requirements.txt文件，用户可以通过以下命令安装依赖：\n",
    "```\n",
    "pip install -r requirements.txt\n",
    "```"
   ]
  },
  {
   "cell_type": "markdown",
   "id": "31ea42d8",
   "metadata": {},
   "source": [
    "用户需要设置可供使用的GPU，此处默认为0卡"
   ]
  },
  {
   "cell_type": "code",
   "execution_count": 13,
   "id": "a2c64828-765f-434c-a930-4126a8b3505e",
   "metadata": {},
   "outputs": [],
   "source": [
    "# 设置CUDA环境变量\n",
    "!export CUDA_VISIBLE_DEVICES=0"
   ]
  },
  {
   "cell_type": "markdown",
   "id": "e85d86f6",
   "metadata": {},
   "source": [
    "## 参数选择\n",
    "用户需要选择合适的模型参数，以便进行通路分析、疾病预测。"
   ]
  },
  {
   "cell_type": "code",
   "execution_count": null,
   "id": "c39d5e3e-202b-41d4-8abe-63ad9cf456d3",
   "metadata": {},
   "outputs": [
    {
     "data": {
      "application/vnd.jupyter.widget-view+json": {
       "model_id": "50e903655ea94954852d873c06d0e5cd",
       "version_major": 2,
       "version_minor": 0
      },
      "text/plain": [
       "VBox(children=(Dropdown(description='text model', options=(('Qwen1B', 'model_weights/Qwen/Qwen3-1___7B'), ('Qw…"
      ]
     },
     "metadata": {},
     "output_type": "display_data"
    }
   ],
   "source": [
    "import ipywidgets as widgets\n",
    "from IPython.display import display\n",
    "import subprocess\n",
    "\n",
    "text_model = widgets.Dropdown(options=[(\"Qwen1B\",\"model_weights/Qwen/Qwen3-1___7B\"),(\"Qwen4B\",\"model_weights/Qwen/Qwen3-4B\")],description=\"text model\")\n",
    "\n",
    "dna_model = widgets.Dropdown(options=[(\"Genos-1b\",\"model_weights/onehot_mix_1b_128k364B_cpt_8k298B_cpt_1m140B_cpt_8k200B_stage1_1_1004\"),(\"Genos-10b\",\"model_weights/onehot_mix_10b_12L_1M140B_cpt_8k298B_cpt_32k128k200B_32k200B_8k200B_stage1_1_211_1009\"),\n",
    "                                      (\"hyenadna_1M\",\"hyenadna-large-1m-seqlen\"),(\"NT\",\"model_weights/InstaDeepAI/nucleotide-transformer-v2-500m-multi-species\"),(\"Evo2-1B\",\"evo2_1b_base\")],\n",
    "                            description=\"DNA model\")\n",
    "\n",
    "dataset_type = widgets.Dropdown(options=[(\"kegg\",\"kegg\"),(\"kegg_hard\",\"kegg_hard\")],description=\"dataset\")\n",
    "max_epochs = widgets.IntText(value=5,description=\"max_epochs\")\n",
    "max_length_dna = widgets.IntText(value=1024,description=\"max_length_dna\")\n",
    "max_length_text = widgets.IntText(value=8192,description=\"max_length_text\")\n",
    "gradient_accumulation_steps = widgets.IntText(value=8,description=\"gradient_accumulation_steps\")\n",
    "btn = widgets.Button(description=\"start\")\n",
    "display(widgets.VBox([text_model,dna_model,dataset_type,max_epochs,max_length_dna,max_length_text,gradient_accumulation_steps,btn]))\n",
    "dna_is_evo2 = False\n",
    "cache_dir = \"model_weights\"\n",
    "dna_embedding_layer = \"blocks.20.mlp.l3\"\n",
    "def on_button_clicked(b):\n",
    "    global dna_is_evo2,cache_dir,dna_embedding_layer\n",
    "    if dna_model.value == \"evo2_1b_base\":\n",
    "        dna_is_evo2 = True\n",
    "        cache_dir = \"model_weights/arcinstitute/evo2_1b_base/evo2_1b_base.pt\"\n",
    "        dna_embedding_layer = \"blocks.20.mlp.l3\"\n",
    "    with open(\"sh_user.sh\",\"r\") as f:\n",
    "        content = f.read()\n",
    "        content = content.replace(\"###cache_dir###\",cache_dir)\n",
    "        content = content.replace(\"###text_model_name###\",text_model.value)\n",
    "        content = content.replace(\"###dna_model_name###\",dna_model.value)\n",
    "        content = content.replace(\"###dna_embedding_layer###\",dna_embedding_layer)\n",
    "        content = content.replace(\"###dataset_type###\",dataset_type.value)\n",
    "        content = content.replace(\"###max_epochs###\",str(max_epochs.value))\n",
    "        content = content.replace(\"###max_length_dna###\",str(max_length_dna.value))\n",
    "        content = content.replace(\"###max_length_text###\",str(max_length_text.value))\n",
    "        content = content.replace(\"###gradient_accumulation_steps###\",str(gradient_accumulation_steps.value))\n",
    "        content = content.replace(\"###dna_is_evo2###\",str(dna_is_evo2))\n",
    "    with open(\"sh_temp.sh\",\"w\") as f:\n",
    "        f.write(content)\n",
    "    command = \"nohup bash sh_temp.sh > logs/log.log 2>&1 &\"\n",
    "    process = subprocess.Popen(\n",
    "        command,\n",
    "        shell=True,\n",
    "        stdout=subprocess.PIPE,\n",
    "        stderr=subprocess.PIPE\n",
    "    )\n",
    "\n",
    "\n",
    "btn.on_click(on_button_clicked)"
   ]
  },
  {
   "cell_type": "markdown",
   "id": "cfc58691-a9ae-4d77-8e3e-2202a3e1d704",
   "metadata": {},
   "source": [
    "查看日志"
   ]
  },
  {
   "cell_type": "code",
   "execution_count": 5,
   "id": "791c914e-5874-4e6f-8b68-d94bf1f8a645",
   "metadata": {},
   "outputs": [
    {
     "name": "stdout",
     "output_type": "stream",
     "text": [
      "\n"
     ]
    }
   ],
   "source": [
    "# 查看系统日志（Linux/Mac）\n",
    "import subprocess\n",
    "result = subprocess.run(['tail', '-50', 'logs/log.log'], \n",
    "                      capture_output=True, text=True)\n",
    "print(result.stdout)\n"
   ]
  },
  {
   "cell_type": "code",
   "execution_count": null,
   "id": "4367da26-315b-4a3d-ab63-483e35d31dba",
   "metadata": {},
   "outputs": [],
   "source": []
  }
 ],
 "metadata": {
  "kernelspec": {
   "display_name": "Python (py312_1)",
   "language": "python",
   "name": "py312_1"
  },
  "language_info": {
   "codemirror_mode": {
    "name": "ipython",
    "version": 3
   },
   "file_extension": ".py",
   "mimetype": "text/x-python",
   "name": "python",
   "nbconvert_exporter": "python",
   "pygments_lexer": "ipython3",
   "version": "3.12.2"
  }
 },
 "nbformat": 4,
 "nbformat_minor": 5
}
